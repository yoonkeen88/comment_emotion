{
 "cells": [
  {
   "cell_type": "code",
   "execution_count": 3,
   "id": "ad7b9dd1",
   "metadata": {},
   "outputs": [
    {
     "name": "stdout",
     "output_type": "stream",
     "text": [
      "GPU 사용 가능 여부: False\n"
     ]
    }
   ],
   "source": [
    "import torch\n",
    "\n",
    "print(\"GPU 사용 가능 여부:\", torch.cuda.is_available())\n",
    "if torch.cuda.is_available():\n",
    "    print(\"GPU 이름:\", torch.cuda.get_device_name(0))"
   ]
  },
  {
   "cell_type": "code",
   "execution_count": null,
   "id": "9dda37cf",
   "metadata": {},
   "outputs": [],
   "source": [
    "import pandas as pd\n",
    "import multiprocessing as mp\n",
    "from transformers import pipeline\n",
    "from tqdm import tqdm\n",
    "import os\n",
    "\n",
    "# ✅ Step 1: 데이터 불러오기\n",
    "CSV_PATH = \"comments.csv\"  # 여기에 파일명 넣기\n",
    "COMMENT_COLUMN = \"comment\"  # 댓글이 담긴 컬럼명 (예: \"내용\", \"text\")\n",
    "\n",
    "df = pd.read_csv(CSV_PATH)\n",
    "texts = df[COMMENT_COLUMN].dropna().tolist()\n",
    "\n",
    "# ✅ Step 2: 감정 레이블 정의\n",
    "labels = [\"긍정\", \"부정\", \"분노\", \"불안\", \"기대\", \"중립\"]\n",
    "\n",
    "# ✅ Step 3: 워커 함수 (프로세스마다 실행됨)\n",
    "def analyze_sentiment(text):\n",
    "    try:\n",
    "        local_classifier = pipeline(\"zero-shot-classification\", \n",
    "                                    model=\"joeddav/xlm-roberta-large-xnli\",\n",
    "                                    device=-1  # ← GPU 대신 CPU 사용)\n",
    "                                    )\n",
    "        result = local_classifier(text, labels)\n",
    "        return {\n",
    "            'text': text,\n",
    "            'top_emotion': result['labels'][0],\n",
    "            **{label: result['scores'][i] for i, label in enumerate(result['labels'])}\n",
    "        }\n",
    "    except Exception as e:\n",
    "        return {\n",
    "            'text': text,\n",
    "            'top_emotion': 'error',\n",
    "            **{label: None for label in labels}\n",
    "        }\n",
    "\n",
    "# ✅ Step 4: 병렬 실행\n",
    "if __name__ == \"__main__\":\n",
    "    print(\"🧠 프로세스 수:\", mp.cpu_count())\n",
    "    with mp.Pool(processes=mp.cpu_count() - 1) as pool:\n",
    "        results = list(tqdm(pool.imap(analyze_sentiment, texts), total=len(texts)))\n",
    "\n",
    "    # ✅ Step 5: 결과 저장\n",
    "    result_df = pd.DataFrame(results)\n",
    "    result_df.to_csv(\"감정분석_결과.csv\", index=False)\n",
    "    print(\"✅ 감정분석 완료 및 결과 저장됨!\")"
   ]
  }
 ],
 "metadata": {
  "kernelspec": {
   "display_name": "base",
   "language": "python",
   "name": "python3"
  },
  "language_info": {
   "codemirror_mode": {
    "name": "ipython",
    "version": 3
   },
   "file_extension": ".py",
   "mimetype": "text/x-python",
   "name": "python",
   "nbconvert_exporter": "python",
   "pygments_lexer": "ipython3",
   "version": "3.12.2"
  }
 },
 "nbformat": 4,
 "nbformat_minor": 5
}
