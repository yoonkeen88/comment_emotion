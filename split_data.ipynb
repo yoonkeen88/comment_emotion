{
 "cells": [
  {
   "cell_type": "code",
   "execution_count": 1,
   "id": "249e5114",
   "metadata": {},
   "outputs": [
    {
     "name": "stderr",
     "output_type": "stream",
     "text": [
      "/opt/anaconda3/lib/python3.12/site-packages/numpy/core/fromnumeric.py:59: FutureWarning: 'DataFrame.swapaxes' is deprecated and will be removed in a future version. Please use 'DataFrame.transpose' instead.\n",
      "  return bound(*args, **kwds)\n"
     ]
    },
    {
     "name": "stdout",
     "output_type": "stream",
     "text": [
      "✅ 저장 완료: split_data/comments_part1.csv (rows: 72069)\n",
      "✅ 저장 완료: split_data/comments_part2.csv (rows: 72069)\n",
      "✅ 저장 완료: split_data/comments_part3.csv (rows: 72068)\n"
     ]
    }
   ],
   "source": [
    "import pandas as pd\n",
    "import numpy as np\n",
    "import os\n",
    "\n",
    "# 🔹 원본 파일명\n",
    "INPUT_PATH = \"sorted_comment_data/comment_only.csv\"\n",
    "OUTPUT_DIR = \"split_data\"\n",
    "\n",
    "# 🔹 분할 개수\n",
    "NUM_SPLITS = 3\n",
    "\n",
    "# 🔹 CSV 읽기\n",
    "df = pd.read_csv(INPUT_PATH)\n",
    "df = df.dropna(subset=[\"comment\"]).reset_index(drop=True)\n",
    "\n",
    "# 🔹 분할\n",
    "splits = np.array_split(df, NUM_SPLITS)\n",
    "\n",
    "# 🔹 저장 디렉토리 생성\n",
    "os.makedirs(OUTPUT_DIR, exist_ok=True)\n",
    "\n",
    "# 🔹 저장\n",
    "for i, chunk in enumerate(splits):\n",
    "    out_path = f\"{OUTPUT_DIR}/comments_part{i+1}.csv\"\n",
    "    chunk.to_csv(out_path, index=False)\n",
    "    print(f\"✅ 저장 완료: {out_path} (rows: {len(chunk)})\")"
   ]
  },
  {
   "cell_type": "code",
   "execution_count": null,
   "id": "1d7a5391",
   "metadata": {},
   "outputs": [],
   "source": []
  }
 ],
 "metadata": {
  "kernelspec": {
   "display_name": "base",
   "language": "python",
   "name": "python3"
  },
  "language_info": {
   "codemirror_mode": {
    "name": "ipython",
    "version": 3
   },
   "file_extension": ".py",
   "mimetype": "text/x-python",
   "name": "python",
   "nbconvert_exporter": "python",
   "pygments_lexer": "ipython3",
   "version": "3.12.2"
  }
 },
 "nbformat": 4,
 "nbformat_minor": 5
}
