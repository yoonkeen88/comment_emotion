{
 "cells": [
  {
   "cell_type": "code",
   "execution_count": 2,
   "id": "60b1a9d9",
   "metadata": {},
   "outputs": [],
   "source": [
    "import pandas as pd\n",
    "\n",
    "import numpy as np"
   ]
  },
  {
   "cell_type": "code",
   "execution_count": 3,
   "id": "8beb0359",
   "metadata": {},
   "outputs": [
    {
     "name": "stdout",
     "output_type": "stream",
     "text": [
      "(226513, 6)\n"
     ]
    }
   ],
   "source": [
    "df1 = pd.read_csv('/Users/angwang-yun/Desktop/Project/comment_emotion/merged_keywords_연금_상해.csv', encoding='utf-8-sig')\n",
    "print(df1.shape)\n"
   ]
  },
  {
   "cell_type": "code",
   "execution_count": 4,
   "id": "771056e0",
   "metadata": {},
   "outputs": [
    {
     "data": {
      "text/plain": [
       "date          0\n",
       "url           0\n",
       "oid           0\n",
       "aid           0\n",
       "comment    7888\n",
       "article       0\n",
       "dtype: int64"
      ]
     },
     "execution_count": 4,
     "metadata": {},
     "output_type": "execute_result"
    }
   ],
   "source": [
    "# 모든 열이 같은 행 # 수를 가지고 있는지 확인\n",
    "df1.isnull().sum()"
   ]
  },
  {
   "cell_type": "code",
   "execution_count": 5,
   "id": "4ab493e8",
   "metadata": {},
   "outputs": [
    {
     "name": "stdout",
     "output_type": "stream",
     "text": [
      "(218625, 6)\n"
     ]
    }
   ],
   "source": [
    "df1 = df1.dropna(axis=0, how='any')  # NaN이 있는 행 제거\n",
    "print(df1.shape)"
   ]
  },
  {
   "cell_type": "code",
   "execution_count": 6,
   "id": "713c4f34",
   "metadata": {},
   "outputs": [],
   "source": [
    "df1.to_csv(\"merged_keywords_연금_상해.csv_cleaned.csv\", index=False, encoding='utf-8-sig')"
   ]
  },
  {
   "cell_type": "code",
   "execution_count": 7,
   "id": "62e07a79",
   "metadata": {},
   "outputs": [
    {
     "name": "stdout",
     "output_type": "stream",
     "text": [
      "(216206, 6)\n"
     ]
    }
   ],
   "source": [
    "# comment 열에서 중복 제거\n",
    "df1 = df1.drop_duplicates(subset=['comment'], keep='first')\n",
    "print(df1.shape)"
   ]
  },
  {
   "cell_type": "code",
   "execution_count": null,
   "id": "f975fc82",
   "metadata": {},
   "outputs": [],
   "source": [
    "df1.to_csv('/Users/angwang-yun/Desktop/Project/comment_emotion/merged_keywords_연금_상해_cleaned.csv', index=False, encoding='utf-8-sig')\n",
    "# comment 열에서 중복 제거"
   ]
  },
  {
   "cell_type": "code",
   "execution_count": null,
   "id": "6ac667aa",
   "metadata": {},
   "outputs": [],
   "source": []
  }
 ],
 "metadata": {
  "kernelspec": {
   "display_name": "base",
   "language": "python",
   "name": "python3"
  },
  "language_info": {
   "codemirror_mode": {
    "name": "ipython",
    "version": 3
   },
   "file_extension": ".py",
   "mimetype": "text/x-python",
   "name": "python",
   "nbconvert_exporter": "python",
   "pygments_lexer": "ipython3",
   "version": "3.12.2"
  }
 },
 "nbformat": 4,
 "nbformat_minor": 5
}
